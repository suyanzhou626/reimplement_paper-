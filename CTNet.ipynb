{
 "cells": [
  {
   "cell_type": "code",
   "execution_count": 1,
   "id": "377a0709",
   "metadata": {
    "ExecuteTime": {
     "end_time": "2021-05-13T12:41:37.038918Z",
     "start_time": "2021-05-13T12:41:37.031710Z"
    }
   },
   "outputs": [],
   "source": [
    "%config Completer.use_jedi = False"
   ]
  },
  {
   "cell_type": "code",
   "execution_count": 2,
   "id": "883ce917",
   "metadata": {
    "ExecuteTime": {
     "end_time": "2021-05-13T12:41:37.549853Z",
     "start_time": "2021-05-13T12:41:37.040581Z"
    }
   },
   "outputs": [],
   "source": [
    "import torch\n",
    "import torch.nn as nn\n",
    "import torch.nn.functional as F"
   ]
  },
  {
   "cell_type": "code",
   "execution_count": 3,
   "id": "e0349de3",
   "metadata": {
    "ExecuteTime": {
     "end_time": "2021-05-13T12:41:38.050604Z",
     "start_time": "2021-05-13T12:41:37.551515Z"
    }
   },
   "outputs": [
    {
     "name": "stdout",
     "output_type": "stream",
     "text": [
      "torch.Size([2, 512, 6])\n",
      "torch.Size([2, 512, 64, 64])\n",
      "torch.Size([2, 6, 1])\n"
     ]
    }
   ],
   "source": [
    "class CCM(nn.Module):\n",
    "    def __init__(self, in_chans, N=6, ks=[9, 17, 33, 65, 129]):\n",
    "        super(CCM, self).__init__()\n",
    "        \n",
    "        self.avgpool = nn.AdaptiveAvgPool2d(1)\n",
    "        \n",
    "        self.mce = [nn.Conv1d(\n",
    "            in_chans, \n",
    "            in_chans, \n",
    "            kernel_size=k, \n",
    "            stride=k, \n",
    "            padding=k-1) for k in ks]\n",
    "        \n",
    "        self.fc1 = nn.Linear(len(ks), 1, bias=True)\n",
    "        self.fc2 = nn.Linear(in_chans, N)\n",
    "        \n",
    "    def forward(self, x):\n",
    "        b, c, h, w = x.size()\n",
    "        P_x = self.avgpool(x).contiguous().view(b, c, -1)\n",
    "        C_m = self.mceblock(P_x)\n",
    "        C_m = torch.sigmoid(C_m) # [N, C, 1]\n",
    "        mid_feat = X_c = torch.mul(C_m.unsqueeze(-1), x)\n",
    "        P_p = self.fc2(C_m.squeeze(-1)).unsqueeze(-1)        \n",
    "        M = torch.matmul(C_m, P_p.transpose(2,1))\n",
    "        \n",
    "        return M, mid_feat, P_p\n",
    "    \n",
    "    def mceblock(self, p_x):\n",
    "        # Need to consider again\n",
    "        res = []\n",
    "        for it in self.mce: \n",
    "            C_i = it(p_x)\n",
    "            res.append(C_i)\n",
    "        C_c = torch.cat(res, -1)\n",
    "        return self.fc1(C_c)\n",
    "        \n",
    "if __name__ == \"__main__\":\n",
    "    \n",
    "    x = torch.randn(2, 512, 64, 64)\n",
    "    module = CCM(in_chans=512, N=6)\n",
    "    out = module(x)\n",
    "    if isinstance(out, (tuple, list)):\n",
    "        for idx in out:\n",
    "            print(idx.shape)"
   ]
  },
  {
   "cell_type": "code",
   "execution_count": 4,
   "id": "08a6ce90",
   "metadata": {
    "ExecuteTime": {
     "end_time": "2021-05-13T12:41:38.129244Z",
     "start_time": "2021-05-13T12:41:38.052180Z"
    }
   },
   "outputs": [
    {
     "name": "stdout",
     "output_type": "stream",
     "text": [
      "torch.Size([2, 512, 64, 64])\n"
     ]
    }
   ],
   "source": [
    "class SCM(nn.Module):\n",
    "    def __init__(self, in_chans=512, N=6, r=8):\n",
    "        super(SCM, self).__init__()\n",
    "        \n",
    "        self.conv2d = nn.Conv2d(512, 512//r, kernel_size=1)\n",
    "        self.conv2df = nn.Sequential(\n",
    "            nn.Conv2d(64, 512,kernel_size=1),\n",
    "            nn.BatchNorm2d(512),\n",
    "            nn.ReLU(True)\n",
    "        ) \n",
    "        self.conv1da = nn.Conv1d(512, 512//r, kernel_size=1)\n",
    "        self.conv1db = nn.Conv1d(512, 512//r, kernel_size=1)\n",
    "\n",
    "        \n",
    "        \n",
    "    def forward(self, X_c, M):\n",
    "        \"\"\"Args\n",
    "        X_c: [B, C, H, W]\n",
    "        M: [B, C, N]\n",
    "        \"\"\"\n",
    "        B = self.conv2d(X_c)\n",
    "        b, c_s, h, w = B.shape\n",
    "        B = B.contiguous().view(b, c_s, -1)\n",
    "        C = self.conv1da(M)\n",
    "        D = self.conv1db(M)\n",
    "        E = torch.einsum('bcn, bcm -> bnm', B, C)\n",
    "        E = F.softmax(E, dim=-1)\n",
    "        X_s = torch.einsum('bcn, bmn -> bcm', D, E)\n",
    "        X_s = X_s.contiguous().view(b, -1, h, w)\n",
    "        X_s = self.conv2df(X_s)\n",
    "        return X_s\n",
    "\n",
    "if __name__ == \"__main__\":\n",
    "    \n",
    "    X_c=torch.randn(2, 512, 64, 64)\n",
    "    M = torch.randn(2, 512, 6)\n",
    "    module = SCM()\n",
    "    out = module(X_c, M)\n",
    "    if isinstance(out, (tuple, list)):\n",
    "        for idx in out:\n",
    "            print(idx.shape)\n",
    "    else:\n",
    "        print(out.shape)"
   ]
  }
 ],
 "metadata": {
  "kernelspec": {
   "display_name": "Python 3",
   "language": "python",
   "name": "python3"
  },
  "language_info": {
   "codemirror_mode": {
    "name": "ipython",
    "version": 3
   },
   "file_extension": ".py",
   "mimetype": "text/x-python",
   "name": "python",
   "nbconvert_exporter": "python",
   "pygments_lexer": "ipython3",
   "version": "3.7.10"
  },
  "varInspector": {
   "cols": {
    "lenName": 16,
    "lenType": 16,
    "lenVar": 40
   },
   "kernels_config": {
    "python": {
     "delete_cmd_postfix": "",
     "delete_cmd_prefix": "del ",
     "library": "var_list.py",
     "varRefreshCmd": "print(var_dic_list())"
    },
    "r": {
     "delete_cmd_postfix": ") ",
     "delete_cmd_prefix": "rm(",
     "library": "var_list.r",
     "varRefreshCmd": "cat(var_dic_list()) "
    }
   },
   "types_to_exclude": [
    "module",
    "function",
    "builtin_function_or_method",
    "instance",
    "_Feature"
   ],
   "window_display": false
  }
 },
 "nbformat": 4,
 "nbformat_minor": 5
}
